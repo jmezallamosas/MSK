{
 "cells": [
  {
   "cell_type": "code",
   "execution_count": null,
   "id": "7d8f3015-5ebc-45ac-8da8-03966eedffbe",
   "metadata": {},
   "outputs": [],
   "source": []
  }
 ],
 "metadata": {
  "kernelspec": {
   "display_name": "grafiti",
   "language": "python",
   "name": "grafiti"
  },
  "language_info": {
   "codemirror_mode": {
    "name": "ipython",
    "version": 3
   },
   "file_extension": ".py",
   "mimetype": "text/x-python",
   "name": "python",
   "nbconvert_exporter": "python",
   "pygments_lexer": "ipython3",
   "version": "3.9.19"
  }
 },
 "nbformat": 4,
 "nbformat_minor": 5
}
