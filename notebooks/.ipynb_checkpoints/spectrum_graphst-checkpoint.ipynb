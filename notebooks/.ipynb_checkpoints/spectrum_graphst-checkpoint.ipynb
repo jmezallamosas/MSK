{
 "cells": [
  {
   "cell_type": "code",
   "execution_count": 1,
   "id": "06d5e65c-5def-4e94-b157-e62219ada54f",
   "metadata": {},
   "outputs": [],
   "source": [
    "import scanpy as sc\n",
    "from GraphST import GraphST\n",
    "import numpy as np\n",
    "import matplotlib.pyplot as plt\n",
    "import torch\n",
    "\n",
    "import warnings\n",
    "warnings.filterwarnings('ignore')\n",
    "\n",
    "datadir = '/home/mezallj1/grafiti/data'"
   ]
  },
  {
   "cell_type": "code",
   "execution_count": 2,
   "id": "25466691-bc0d-44d7-8dde-e7a50bb4283f",
   "metadata": {},
   "outputs": [],
   "source": [
    "adata = sc.read(f'{datadir}/spectrum_after_links.h5ad')"
   ]
  },
  {
   "cell_type": "code",
   "execution_count": 3,
   "id": "ebde8bbe-43f3-4e78-a1ca-4a96d3d33109",
   "metadata": {},
   "outputs": [],
   "source": [
    "sc.pp.highly_variable_genes(adata, flavor=\"seurat_v3\", n_top_genes=3000, span=0.5)"
   ]
  },
  {
   "cell_type": "code",
   "execution_count": 4,
   "id": "5e35abda-be0b-4ef6-a7d1-b140552188d7",
   "metadata": {},
   "outputs": [],
   "source": [
    "# Run device, by default, the package is implemented on 'cpu'. We recommend using GPU.\n",
    "device = torch.device(\"cuda\" if torch.cuda.is_available() else \"cpu\")"
   ]
  },
  {
   "cell_type": "code",
   "execution_count": 5,
   "id": "430acede-bc77-452c-bef3-2223afde161f",
   "metadata": {},
   "outputs": [],
   "source": [
    "# define model\n",
    "model = GraphST.GraphST(adata, device=device, random_seed=50)"
   ]
  },
  {
   "cell_type": "code",
   "execution_count": null,
   "id": "7ed184e4-2fc7-4b74-a851-ac000baf8bc8",
   "metadata": {},
   "outputs": [
    {
     "name": "stdout",
     "output_type": "stream",
     "text": [
      "Begin to train ST data...\n"
     ]
    },
    {
     "name": "stderr",
     "output_type": "stream",
     "text": [
      " 97%|█████████▋| 584/600 [1:02:02<01:42,  6.38s/it]"
     ]
    }
   ],
   "source": [
    "# train model\n",
    "adata = model.train()"
   ]
  },
  {
   "cell_type": "code",
   "execution_count": null,
   "id": "a40a63aa-6f9a-4564-a16e-f20a14125b80",
   "metadata": {
    "scrolled": true
   },
   "outputs": [],
   "source": [
    "# set radius to specify the number of neighbors considered during refinement\n",
    "radius = 50\n",
    "\n",
    "tool = 'mclust' # mclust, leiden, and louvain\n",
    "\n",
    "n_clusters=15\n",
    "\n",
    "# clustering\n",
    "from GraphST.utils import clustering\n",
    "\n",
    "if tool == 'mclust':\n",
    "   clustering(adata, n_clusters, radius=radius, method=tool, refinement=True) # For DLPFC dataset, we use optional refinement step.\n",
    "elif tool in ['leiden', 'louvain']:\n",
    "   clustering(adata, n_clusters, radius=radius, method=tool, start=0.1, end=2.0, increment=0.01, refinement=False)"
   ]
  },
  {
   "cell_type": "code",
   "execution_count": null,
   "id": "e95f9695-d2c7-405e-b51c-77a267978635",
   "metadata": {},
   "outputs": [],
   "source": []
  }
 ],
 "metadata": {
  "kernelspec": {
   "display_name": "graphst",
   "language": "python",
   "name": "graphst"
  },
  "language_info": {
   "codemirror_mode": {
    "name": "ipython",
    "version": 3
   },
   "file_extension": ".py",
   "mimetype": "text/x-python",
   "name": "python",
   "nbconvert_exporter": "python",
   "pygments_lexer": "ipython3",
   "version": "3.8.19"
  }
 },
 "nbformat": 4,
 "nbformat_minor": 5
}
