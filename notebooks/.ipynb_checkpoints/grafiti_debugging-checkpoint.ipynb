{
 "cells": [
  {
   "cell_type": "code",
   "execution_count": 17,
   "id": "70c895eb-5095-4c5c-8fad-3dce570e628e",
   "metadata": {},
   "outputs": [],
   "source": [
    "import scanpy as sc\n",
    "import numpy as np\n",
    "import seaborn as sns\n",
    "import umap\n",
    "import torch.nn.functional as F\n",
    "import torch\n",
    "from torch import Tensor\n",
    "import torch_scatter\n",
    "from torch_geometric.data import Data\n",
    "import torch.nn as nn\n",
    "from torch_geometric.nn import models\n",
    "from torch_geometric.nn import GraphSAGE\n",
    "from torch_geometric.nn import aggr\n",
    "from torch_geometric.nn import MessagePassing\n",
    "from sklearn import preprocessing\n",
    "import squidpy as sq\n",
    "\n",
    "import warnings\n",
    "warnings.filterwarnings('ignore')\n",
    "\n",
    "datadir = \"/data1/shahs3/users/mezallj1/data/osmfish\"\n",
    "figdir = \"/data1/shahs3/users/mezallj1/figures/osmfish\""
   ]
  },
  {
   "cell_type": "code",
   "execution_count": 18,
   "id": "bb459f36-27be-4bc1-9b84-efecc5575437",
   "metadata": {},
   "outputs": [],
   "source": [
    "class GrafitiEncoderLayer(MessagePassing):\n",
    "    def __init__(self, in_channels, out_channels):\n",
    "        super(GrafitiEncoderLayer, self).__init__(aggr='add')\n",
    "        self.lin = torch.nn.Linear(in_channels, out_channels)\n",
    "\n",
    "    def message(self, x_j, edge_attr):\n",
    "        edge_attr = edge_attr.to(x_j.dtype) \n",
    "        return x_j / edge_attr.unsqueeze(-1) \n",
    "\n",
    "    def forward(self, x, edge_index, edge_attr):\n",
    "        ret = self.propagate(edge_index, x=x, edge_attr=edge_attr)\n",
    "        ret = self.lin(ret) \n",
    "        return F.leaky_relu(ret, negative_slope=0.01)\n",
    "    \n",
    "class GrafitiDecoderLayer(MessagePassing):\n",
    "\n",
    "    def __init__(self, in_channels, out_channels):\n",
    "        super(GrafitiDecoderLayer, self).__init__()\n",
    "        self.lin = torch.nn.Linear(in_channels, out_channels)\n",
    "\n",
    "    def message(self, x_j, edge_attr): \n",
    "        edge_attr = edge_attr.to(x_j.dtype)\n",
    "        degree = x_j.size(0) \n",
    "        degree_normalized_message = x_j / edge_attr.unsqueeze(-1) \n",
    "        res = degree_normalized_message / degree\n",
    "        return res\n",
    "\n",
    "    def aggregate(self, inputs, index, dim_size=None):\n",
    "        res = torch_scatter.scatter_mean(inputs, index, dim=0, dim_size=dim_size)\n",
    "        return res\n",
    "\n",
    "    def forward(self, x, edge_index, edge_attr):\n",
    "        aggr_out = self.propagate(edge_index, x=x, edge_attr=edge_attr)\n",
    "        transformed_features = x - aggr_out\n",
    "        transformed_features = self.lin(transformed_features) \n",
    "        return F.leaky_relu(transformed_features, negative_slope=0.01)\n",
    "    \n",
    "\n",
    "class GrafitiEncoderModule(torch.nn.Module):\n",
    "    def __init__(self, in_dim, layers=[10,10]):\n",
    "        super(GrafitiEncoderModule, self).__init__()\n",
    "        self.layers = layers\n",
    "        self.conv = nn.ModuleList()\n",
    "        lhidden_dim = self.layers[0]\n",
    "        self.conv.append(GrafitiEncoderLayer(in_dim, lhidden_dim))\n",
    "        for hidden_dim in self.layers[1:]:\n",
    "            self.conv.append(GrafitiEncoderLayer(lhidden_dim, hidden_dim))\n",
    "            lhidden_dim = hidden_dim\n",
    "\n",
    "    def forward(self, x, edge_index, edge_attr):\n",
    "        for conv in self.conv:\n",
    "            x = conv(x, edge_index=edge_index, edge_attr=edge_attr).relu()\n",
    "        return x\n",
    "\n",
    "class GrafitiDecoderModule(torch.nn.Module):\n",
    "    def __init__(self, in_dim, layers=[30,30]):\n",
    "        super(GrafitiDecoderModule, self).__init__()\n",
    "        self.layers = layers\n",
    "        self.conv = nn.ModuleList()\n",
    "        lhidden_dim = self.layers[0]\n",
    "        self.conv.append(GrafitiDecoderLayer(in_dim, lhidden_dim))\n",
    "        for hidden_dim in self.layers[1:]:\n",
    "            self.conv.append(GrafitiDecoderLayer(lhidden_dim, hidden_dim))\n",
    "            lhidden_dim = hidden_dim\n",
    "\n",
    "    def forward(self, x, edge_index, edge_attr):\n",
    "        for conv in self.conv:\n",
    "            x = conv(x, edge_index=edge_index, edge_attr=edge_attr).relu()\n",
    "        return x"
   ]
  },
  {
   "cell_type": "code",
   "execution_count": 31,
   "id": "0431dad5-cd6c-4b7b-9894-9e81f8a4fb91",
   "metadata": {},
   "outputs": [],
   "source": [
    "class GAE(object):\n",
    "\n",
    "    def __init__(self, adata, layers=[10,10], lr=0.00001, distance_threshold=None, exponent=2, distance_scale=None):\n",
    "        self.lr = lr\n",
    "        print(\"Generating PyTorch Geometric Dataset...\")\n",
    "        if distance_threshold != None:\n",
    "            distances = adata.obsp[\"spatial_distances\"]\n",
    "            connectiv = adata.obsp[\"spatial_connectivities\"]\n",
    "            rows, cols = distances.nonzero()\n",
    "            for row, col in zip(rows, cols):\n",
    "                if distances[row, col] > distance_threshold:\n",
    "                    connectiv[row, col] = 0\n",
    "            adata.obsp[\"spatial_connectivities\"] = connectiv\n",
    "        edges = adata.obsp[\"spatial_connectivities\"].nonzero()\n",
    "        x = torch.from_numpy(adata.X)\n",
    "        x = x.float()\n",
    "        e = torch.from_numpy(np.array(edges)).type(torch.int64)\n",
    "        attrs = [adata.obsp[\"spatial_distances\"][x,y] for x,y in zip(*edges)]\n",
    "        if distance_scale!=None:\n",
    "            scaler = preprocessing.MinMaxScaler(feature_range=(0,distance_scale))\n",
    "            attrs = scaler.fit_transform(np.array(attrs).reshape(-1,1)).reshape(1,-1)\n",
    "            attrs = 1. / (np.array(attrs)**exponent)\n",
    "            attrs = attrs[0]\n",
    "        else:\n",
    "            attrs = np.array(attrs)\n",
    "        data = Data(x=x, edge_index=e, edge_attr=attrs)\n",
    "        self.adata = adata\n",
    "        data.edge_attr = torch.from_numpy(data.edge_attr)\n",
    "        self.encoder_layers = layers\n",
    "        self.decoder_layers = list(reversed(layers[1:])) + [data.num_features]\n",
    "        print(\"Setting up Model...\")\n",
    "        self.encoder = GrafitiEncoderModule(data.num_features,layers=self.encoder_layers, )\n",
    "        self.decoder = GrafitiDecoderModule(layers[-1],layers=self.decoder_layers)\n",
    "        self.gae = models.GAE(encoder=self.encoder,decoder=self.decoder)\n",
    "        self.optimizer = torch.optim.Adadelta(self.gae.parameters(), lr=lr)\n",
    "        self.loss = nn.MSELoss()\n",
    "        self.losses = []\n",
    "        self.global_epoch = 0\n",
    "        self.data = data\n",
    "        print(\"Ready to train!\")\n",
    "\n",
    "    def train(self, epochs, update_interval=5, threshold=0):\n",
    "        prev_loss = 0.\n",
    "        for i in range(epochs):\n",
    "            self.optimizer.zero_grad()  \n",
    "            z = self.gae.encode(self.data.x, self.data.edge_index, self.data.edge_attr)\n",
    "            reconstruction = self.gae.decode(z, self.data.edge_index, self.data.edge_attr)\n",
    "            loss = self.loss(reconstruction, self.data.x)\n",
    "            loss.backward()\n",
    "            self.optimizer.step() \n",
    "            self.losses.append(loss.item())\n",
    "            if i % update_interval == 0:\n",
    "                print(\"Epoch {} ** iteration {} ** Loss: {}\".format(self.global_epoch, i, np.mean(self.losses[-update_interval:])))\n",
    "            self.global_epoch += 1\n",
    "            curr_loss = loss.item\n",
    "            if abs(losses[self.global_epoch] - losses[self.global_epoch-1] ) < threshold:\n",
    "                print(\"Minimum threhsold!\")\n",
    "                break\n",
    "        print(\"Complete.\")\n",
    "\n",
    "    def plot(self):\n",
    "        sns.lineplot(self.losses)"
   ]
  },
  {
   "cell_type": "code",
   "execution_count": 32,
   "id": "ca301473-e295-40f4-ad0b-33bb965a981e",
   "metadata": {},
   "outputs": [
    {
     "data": {
      "text/plain": [
       "AnnData object with n_obs × n_vars = 4839 × 33\n",
       "    obs: 'ClusterName', 'ClusterID', 'Region'\n",
       "    uns: 'ClusterName_colors'\n",
       "    obsm: 'spatial'"
      ]
     },
     "execution_count": 32,
     "metadata": {},
     "output_type": "execute_result"
    }
   ],
   "source": [
    "adata = sc.read_h5ad(f'{datadir}/raw/osmfish_remove_excluded.h5ad')\n",
    "adata"
   ]
  },
  {
   "cell_type": "code",
   "execution_count": 33,
   "id": "2f367f54-7b91-4703-b2b4-2c8c80323214",
   "metadata": {},
   "outputs": [],
   "source": [
    "sq.gr.spatial_neighbors(adata,radius=50,coord_type='generic',delaunay=True) # Creates spatial_connectivities and spatial_distances in 'obsp' from spatial location (x,y) in 'obsm'"
   ]
  },
  {
   "cell_type": "code",
   "execution_count": 40,
   "id": "e42b7c8b-a5c6-4203-a09d-03ed6911c6bb",
   "metadata": {},
   "outputs": [
    {
     "name": "stdout",
     "output_type": "stream",
     "text": [
      "Generating PyTorch Geometric Dataset...\n",
      "Setting up Model...\n",
      "Ready to train!\n"
     ]
    }
   ],
   "source": [
    "gae = GAE(adata, layers=[50,50], lr=0.05)#, exponent=2, distance_scale=10)"
   ]
  },
  {
   "cell_type": "code",
   "execution_count": 43,
   "id": "e3cbfcc7-d862-4fb3-b32a-659c44211faa",
   "metadata": {},
   "outputs": [
    {
     "name": "stdout",
     "output_type": "stream",
     "text": [
      "Epoch 10 ** iteration 0 ** Loss: 128451.859375\n",
      "Epoch 11 ** iteration 1 ** Loss: 126244.625\n",
      "Epoch 12 ** iteration 2 ** Loss: 124058.9609375\n",
      "Epoch 13 ** iteration 3 ** Loss: 122042.75\n",
      "Epoch 14 ** iteration 4 ** Loss: 120276.7109375\n",
      "Epoch 15 ** iteration 5 ** Loss: 118505.7890625\n",
      "Epoch 16 ** iteration 6 ** Loss: 116924.390625\n",
      "Epoch 17 ** iteration 7 ** Loss: 115471.28125\n",
      "Epoch 18 ** iteration 8 ** Loss: 114007.5\n",
      "Epoch 19 ** iteration 9 ** Loss: 112676.578125\n",
      "Complete.\n"
     ]
    }
   ],
   "source": [
    "gae.train(10, update_interval=1, threshold=1e+5)"
   ]
  },
  {
   "cell_type": "code",
   "execution_count": 42,
   "id": "00892208-ae4c-4a89-94c1-d4120f42d397",
   "metadata": {},
   "outputs": [
    {
     "data": {
      "image/png": "[encoded data removed]",
      "text/plain": [
       "<Figure size 640x480 with 1 Axes>"
      ]
     },
     "metadata": {},
     "output_type": "display_data"
    }
   ],
   "source": [
    "gae.plot()"
   ]
  },
  {
   "cell_type": "code",
   "execution_count": null,
   "id": "dd9d6b59-47fa-44ea-8576-8fa07c1c65a8",
   "metadata": {},
   "outputs": [],
   "source": []
  }
 ],
 "metadata": {
  "kernelspec": {
   "display_name": "grafiti",
   "language": "python",
   "name": "grafiti"
  },
  "language_info": {
   "codemirror_mode": {
    "name": "ipython",
    "version": 3
   },
   "file_extension": ".py",
   "mimetype": "text/x-python",
   "name": "python",
   "nbconvert_exporter": "python",
   "pygments_lexer": "ipython3",
   "version": "3.9.19"
  }
 },
 "nbformat": 4,
 "nbformat_minor": 5
}
