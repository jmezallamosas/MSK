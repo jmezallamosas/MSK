{
 "cells": [
  {
   "cell_type": "code",
   "execution_count": null,
   "id": "edb6a1e0-ea0e-4219-86a1-a786059b82f3",
   "metadata": {},
   "outputs": [],
   "source": []
  }
 ],
 "metadata": {
  "kernelspec": {
   "display_name": "macklowe",
   "language": "python",
   "name": "macklowe"
  },
  "language_info": {
   "codemirror_mode": {
    "name": "ipython",
    "version": 3
   },
   "file_extension": ".py",
   "mimetype": "text/x-python",
   "name": "python",
   "nbconvert_exporter": "python",
   "pygments_lexer": "ipython3",
   "version": "3.9.19"
  }
 },
 "nbformat": 4,
 "nbformat_minor": 5
}
