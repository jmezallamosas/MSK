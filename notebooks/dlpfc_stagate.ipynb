{
 "cells": [
  {
   "cell_type": "code",
   "execution_count": 1,
   "id": "582958ef-1bd4-4ba9-9a66-d1a58a78fff0",
   "metadata": {},
   "outputs": [],
   "source": [
    "import pandas as pd\n",
    "import numpy as np\n",
    "import scanpy as sc\n",
    "import matplotlib.pyplot as plt\n",
    "import os\n",
    "import sys\n",
    "\n",
    "from sklearn.metrics.cluster import adjusted_rand_score\n",
    "\n",
    "import warnings\n",
    "warnings.filterwarnings(\"ignore\")\n",
    "\n",
    "import STAGATE_pyG\n",
    "\n",
    "datadir= '/data1/shahs3/users/mezallj1/data/dlpfc'"
   ]
  },
  {
   "cell_type": "markdown",
   "id": "21f97f0a-d32b-4e8a-8edb-f1b1005f4643",
   "metadata": {
    "jp-MarkdownHeadingCollapsed": true
   },
   "source": [
    "# All Slices"
   ]
  },
  {
   "cell_type": "code",
   "execution_count": 2,
   "id": "1225e614-e096-4d94-924f-18f887b73ca0",
   "metadata": {},
   "outputs": [],
   "source": [
    "def mclust_P(adata, num_cluster, used_obsm='STAGATE', modelNames='EEE'):\n",
    "     from sklearn import mixture\n",
    "     np.random.seed(2020)\n",
    "     g = mixture.GaussianMixture(n_components=num_cluster, covariance_type='diag')\n",
    "     res = g.fit_predict(adata.obsm[used_obsm])\n",
    "     adata.obs['mclust'] = res\n",
    "     return adata"
   ]
  },
  {
   "cell_type": "code",
   "execution_count": 28,
   "id": "88ef05d7-4b03-4d83-b6d6-3f83428f2ac7",
   "metadata": {},
   "outputs": [
    {
     "name": "stdout",
     "output_type": "stream",
     "text": [
      "151674.h5ad\n",
      "151509.h5ad\n",
      "151672.h5ad\n",
      "151669.h5ad\n",
      "151508.h5ad\n",
      "151671.h5ad\n",
      "151675.h5ad\n",
      "151670.h5ad\n",
      "151507.h5ad\n",
      "151676.h5ad\n",
      "151673.h5ad\n",
      "151510.h5ad\n"
     ]
    }
   ],
   "source": [
    "ari_dic = {}\n",
    "\n",
    "for filename in os.listdir(f'{datadir}/raw'):\n",
    "    file_path = os.path.join(f'{datadir}/raw', filename)\n",
    "    \n",
    "    if os.path.isfile(file_path):\n",
    "        \n",
    "        adata = sc.read_h5ad(file_path)\n",
    "\n",
    "        #Normalization\n",
    "        sc.pp.highly_variable_genes(adata, flavor=\"seurat_v3\", n_top_genes=3000)\n",
    "        sc.pp.normalize_total(adata, target_sum=1e4)\n",
    "        sc.pp.log1p(adata)\n",
    "\n",
    "        #Constructing the spatial network\n",
    "        STAGATE_pyG.Cal_Spatial_Net(adata, rad_cutoff=150)\n",
    "        STAGATE_pyG.Stats_Spatial_Net(adata)\n",
    "\n",
    "        #Running STAGATE\n",
    "        adata = STAGATE_pyG.train_STAGATE(adata)\n",
    "\n",
    "        sc.pp.neighbors(adata, use_rep='STAGATE')\n",
    "        sc.tl.umap(adata)\n",
    "        #adata = STAGATE_pyG.mclust_R(adata, used_obsm='STAGATE', num_cluster=7)\n",
    "        adata = mclust_P(adata, used_obsm='STAGATE', num_cluster=7)\n",
    "\n",
    "        obs_df = adata.obs.dropna()\n",
    "\n",
    "        adata \n",
    "\n",
    "        ari = adjusted_rand_score(obs_df['mclust'], obs_df['Region'])\n",
    "\n",
    "        ari_dic[filename] = ari\n",
    "\n",
    "        print('File, %s, ARI, %2.f'%(filename, ari))"
   ]
  },
  {
   "cell_type": "markdown",
   "id": "16844aa2-ea22-4bbb-9615-1d6119016e06",
   "metadata": {},
   "source": [
    "# Individual"
   ]
  },
  {
   "cell_type": "code",
   "execution_count": 3,
   "id": "2d96b52c-89c4-46f7-9c0f-3a2804bb7f42",
   "metadata": {},
   "outputs": [
    {
     "data": {
      "text/plain": [
       "AnnData object with n_obs × n_vars = 3639 × 33538\n",
       "    obs: 'in_tissue', 'array_row', 'array_col', 'Region'\n",
       "    var: 'gene_ids', 'feature_types', 'genome'\n",
       "    uns: 'spatial'\n",
       "    obsm: 'spatial'"
      ]
     },
     "execution_count": 3,
     "metadata": {},
     "output_type": "execute_result"
    }
   ],
   "source": [
    "adata = sc.read_h5ad(f'{datadir}/raw/151673.h5ad')\n",
    "adata"
   ]
  },
  {
   "cell_type": "code",
   "execution_count": 4,
   "id": "1f4191c1-bd74-483e-9736-cdcec7c2f03b",
   "metadata": {},
   "outputs": [],
   "source": [
    "#Normalization\n",
    "sc.pp.highly_variable_genes(adata, flavor=\"seurat_v3\", n_top_genes=3000)\n",
    "sc.pp.normalize_total(adata, target_sum=1e4)\n",
    "sc.pp.log1p(adata)"
   ]
  },
  {
   "cell_type": "code",
   "execution_count": 5,
   "id": "0dba5ae2-633d-4b03-b700-e278ff1f596e",
   "metadata": {},
   "outputs": [
    {
     "name": "stdout",
     "output_type": "stream",
     "text": [
      "------Calculating spatial graph...\n",
      "The graph contains 21124 edges, 3639 cells.\n",
      "5.8049 neighbors per cell on average.\n"
     ]
    },
    {
     "data": {
      "image/png": "[encoded data removed]",
      "text/plain": [
       "<Figure size 300x200 with 1 Axes>"
      ]
     },
     "metadata": {},
     "output_type": "display_data"
    }
   ],
   "source": [
    "#Constructing the spatial network\n",
    "STAGATE_pyG.Cal_Spatial_Net(adata, rad_cutoff=150)\n",
    "STAGATE_pyG.Stats_Spatial_Net(adata)"
   ]
  },
  {
   "cell_type": "code",
   "execution_count": 6,
   "id": "3c2184df-db0e-4eca-8a9f-88d3194c3d70",
   "metadata": {},
   "outputs": [
    {
     "name": "stdout",
     "output_type": "stream",
     "text": [
      "Size of Input:  (3639, 3000)\n"
     ]
    },
    {
     "name": "stderr",
     "output_type": "stream",
     "text": [
      "100%|██████████| 1000/1000 [05:01<00:00,  3.32it/s]\n"
     ]
    }
   ],
   "source": [
    "#Running STAGATE\n",
    "adata = STAGATE_pyG.train_STAGATE(adata)"
   ]
  },
  {
   "cell_type": "code",
   "execution_count": 7,
   "id": "6afe3e75-3c4a-45a7-ab59-081d3fee6513",
   "metadata": {},
   "outputs": [],
   "source": [
    "def mclust_P(adata, num_cluster, used_obsm='STAGATE', modelNames='EEE'):\n",
    "     from sklearn import mixture\n",
    "     np.random.seed(2020)\n",
    "     g = mixture.GaussianMixture(n_components=num_cluster, covariance_type='diag')\n",
    "     res = g.fit_predict(adata.obsm[used_obsm])\n",
    "     adata.obs['mclust'] = res\n",
    "     return adata"
   ]
  },
  {
   "cell_type": "code",
   "execution_count": 8,
   "id": "72ddee14-b135-4d5d-8a3a-ad0bda7d517e",
   "metadata": {},
   "outputs": [],
   "source": [
    "sc.pp.neighbors(adata, use_rep='STAGATE')\n",
    "sc.tl.umap(adata)\n",
    "#adata = STAGATE_pyG.mclust_R(adata, used_obsm='STAGATE', num_cluster=7)\n",
    "adata = mclust_P(adata, used_obsm='STAGATE', num_cluster=7)"
   ]
  },
  {
   "cell_type": "code",
   "execution_count": 9,
   "id": "a3fa6acc-f2ce-4965-83a3-c60645d94fc0",
   "metadata": {},
   "outputs": [],
   "source": [
    "obs_df = adata.obs.dropna()"
   ]
  },
  {
   "cell_type": "code",
   "execution_count": 10,
   "id": "ca5afe37-2252-450b-9300-50b9f1f24d88",
   "metadata": {},
   "outputs": [
    {
     "name": "stdout",
     "output_type": "stream",
     "text": [
      "0.28371574137648664\n"
     ]
    }
   ],
   "source": [
    "ari = adjusted_rand_score(obs_df['mclust'], obs_df['Region'])\n",
    "print(ari)"
   ]
  },
  {
   "cell_type": "code",
   "execution_count": null,
   "id": "45ad22f9-a7b6-49f5-a260-7d0b5a62479d",
   "metadata": {},
   "outputs": [],
   "source": []
  }
 ],
 "metadata": {
  "kernelspec": {
   "display_name": "stagate",
   "language": "python",
   "name": "stagate"
  },
  "language_info": {
   "codemirror_mode": {
    "name": "ipython",
    "version": 3
   },
   "file_extension": ".py",
   "mimetype": "text/x-python",
   "name": "python",
   "nbconvert_exporter": "python",
   "pygments_lexer": "ipython3",
   "version": "3.9.19"
  }
 },
 "nbformat": 4,
 "nbformat_minor": 5
}
