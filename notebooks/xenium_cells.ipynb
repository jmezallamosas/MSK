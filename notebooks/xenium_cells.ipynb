{
 "cells": [
  {
   "cell_type": "code",
   "execution_count": 2,
   "id": "89fbda0c-a20b-4da9-8e17-b697baa4f93a",
   "metadata": {},
   "outputs": [],
   "source": [
    "import grafiti as gf\n",
    "import scanpy as sc\n",
    "import matplotlib.pyplot as plt\n",
    "import numpy as np\n",
    "import squidpy as sq\n",
    "from sklearn import metrics\n",
    "import seaborn as sns\n",
    "import pandas as pd\n",
    "import anndata as ad\n",
    "import torch\n",
    "\n",
    "import warnings\n",
    "warnings.filterwarnings('ignore')\n",
    "\n",
    "datadir = \"/data1/shahs3/users/mezallj1/data/xenium\"\n",
    "device = torch.device('cuda' if torch.cuda.is_available() else 'cpu')"
   ]
  },
  {
   "cell_type": "code",
   "execution_count": 19,
   "id": "f2868f6e-ee63-47eb-9e68-09158f565072",
   "metadata": {},
   "outputs": [],
   "source": [
    "cells_003 = pd.read_csv(f'{datadir}/raw/003_prepost.obs.celltypesnamed.csv.gz')\n",
    "cells_003.columns = ['cell_labels','cluster_names','cluster_names_aggtumor']\n",
    "cells_028 = pd.read_csv(f'{datadir}/raw/028_prepost.obs.celltypesnamed.csv.gz')\n",
    "cells_028.columns = ['cell_labels','cluster_names','cluster_names_aggtumor']"
   ]
  },
  {
   "cell_type": "code",
   "execution_count": 15,
   "id": "ec582791-343f-4d96-8aed-cd7c73fe0725",
   "metadata": {},
   "outputs": [],
   "source": [
    "adata = sc.read_h5ad(f'{datadir}/raw/spectrum_xenium_normalized.h5ad')"
   ]
  },
  {
   "cell_type": "code",
   "execution_count": 16,
   "id": "f7b3bf9a-18d4-459e-bf8f-be3d81ddd39b",
   "metadata": {},
   "outputs": [
    {
     "data": {
      "text/plain": [
       "AnnData object with n_obs × n_vars = 1419439 × 477\n",
       "    obs: 'cell_id', 'x_centroid', 'y_centroid', 'transcript_counts', 'control_probe_counts', 'control_codeword_counts', 'unassigned_codeword_counts', 'deprecated_codeword_counts', 'total_counts', 'cell_area', 'nucleus_area', 'n_genes_by_counts', 'log1p_n_genes_by_counts', 'log1p_total_counts', 'pct_counts_in_top_10_genes', 'pct_counts_in_top_20_genes', 'pct_counts_in_top_50_genes', 'pct_counts_in_top_150_genes', 'n_counts', 'Sample_ID', 'Patient_ID', 'Treatment', 'Region', 'Site'\n",
       "    obsm: 'X_pca', 'spatial'\n",
       "    layers: 'log_norm'"
      ]
     },
     "execution_count": 16,
     "metadata": {},
     "output_type": "execute_result"
    }
   ],
   "source": [
    "adata"
   ]
  },
  {
   "cell_type": "code",
   "execution_count": 52,
   "id": "1862b633-ea55-4568-b910-1a7134b819ef",
   "metadata": {},
   "outputs": [
    {
     "data": {
      "text/plain": [
       "True"
      ]
     },
     "execution_count": 52,
     "metadata": {},
     "output_type": "execute_result"
    }
   ],
   "source": [
    "(adata.obs['Patient_ID'].index[adata.obs['Patient_ID']=='SPECTRUM-OV-003']==[i.split('_')[0] for i in cells_003['cell_labels'].values]).any()"
   ]
  },
  {
   "cell_type": "code",
   "execution_count": 53,
   "id": "bf3733de-960c-4b89-ba59-ae302727551e",
   "metadata": {},
   "outputs": [
    {
     "data": {
      "text/html": [
       "<div>\n",
       "<style scoped>\n",
       "    .dataframe tbody tr th:only-of-type {\n",
       "        vertical-align: middle;\n",
       "    }\n",
       "\n",
       "    .dataframe tbody tr th {\n",
       "        vertical-align: top;\n",
       "    }\n",
       "\n",
       "    .dataframe thead th {\n",
       "        text-align: right;\n",
       "    }\n",
       "</style>\n",
       "<table border=\"1\" class=\"dataframe\">\n",
       "  <thead>\n",
       "    <tr style=\"text-align: right;\">\n",
       "      <th></th>\n",
       "      <th>cell_labels</th>\n",
       "      <th>cluster_names</th>\n",
       "      <th>cluster_names_aggtumor</th>\n",
       "    </tr>\n",
       "  </thead>\n",
       "  <tbody>\n",
       "    <tr>\n",
       "      <th>0</th>\n",
       "      <td>aaaafgco-1_0</td>\n",
       "      <td>Tumor_6</td>\n",
       "      <td>Tumor</td>\n",
       "    </tr>\n",
       "    <tr>\n",
       "      <th>1</th>\n",
       "      <td>aaacpopp-1_0</td>\n",
       "      <td>Macrophage_1</td>\n",
       "      <td>Macrophage_1</td>\n",
       "    </tr>\n",
       "    <tr>\n",
       "      <th>2</th>\n",
       "      <td>aaaddcac-1_0</td>\n",
       "      <td>Tumor_2</td>\n",
       "      <td>Tumor</td>\n",
       "    </tr>\n",
       "    <tr>\n",
       "      <th>3</th>\n",
       "      <td>aaadejcm-1_0</td>\n",
       "      <td>Tumor_1</td>\n",
       "      <td>Tumor</td>\n",
       "    </tr>\n",
       "    <tr>\n",
       "      <th>4</th>\n",
       "      <td>aaadelaj-1_0</td>\n",
       "      <td>Endothelial_2</td>\n",
       "      <td>Endothelial_2</td>\n",
       "    </tr>\n",
       "    <tr>\n",
       "      <th>...</th>\n",
       "      <td>...</td>\n",
       "      <td>...</td>\n",
       "      <td>...</td>\n",
       "    </tr>\n",
       "    <tr>\n",
       "      <th>1051908</th>\n",
       "      <td>oimdpdko-1_1</td>\n",
       "      <td>Plasma_cell</td>\n",
       "      <td>Plasma_cell</td>\n",
       "    </tr>\n",
       "    <tr>\n",
       "      <th>1051909</th>\n",
       "      <td>oimecfkl-1_1</td>\n",
       "      <td>T_Naive</td>\n",
       "      <td>T_Naive</td>\n",
       "    </tr>\n",
       "    <tr>\n",
       "      <th>1051910</th>\n",
       "      <td>oimefeel-1_1</td>\n",
       "      <td>CD4_T_cell</td>\n",
       "      <td>CD4_T_cell</td>\n",
       "    </tr>\n",
       "    <tr>\n",
       "      <th>1051911</th>\n",
       "      <td>oimegapl-1_1</td>\n",
       "      <td>CD4_T_cell</td>\n",
       "      <td>CD4_T_cell</td>\n",
       "    </tr>\n",
       "    <tr>\n",
       "      <th>1051912</th>\n",
       "      <td>oimegdim-1_1</td>\n",
       "      <td>Plasma_cell</td>\n",
       "      <td>Plasma_cell</td>\n",
       "    </tr>\n",
       "  </tbody>\n",
       "</table>\n",
       "<p>1051913 rows × 3 columns</p>\n",
       "</div>"
      ],
      "text/plain": [
       "          cell_labels  cluster_names cluster_names_aggtumor\n",
       "0        aaaafgco-1_0        Tumor_6                  Tumor\n",
       "1        aaacpopp-1_0   Macrophage_1           Macrophage_1\n",
       "2        aaaddcac-1_0        Tumor_2                  Tumor\n",
       "3        aaadejcm-1_0        Tumor_1                  Tumor\n",
       "4        aaadelaj-1_0  Endothelial_2          Endothelial_2\n",
       "...               ...            ...                    ...\n",
       "1051908  oimdpdko-1_1    Plasma_cell            Plasma_cell\n",
       "1051909  oimecfkl-1_1        T_Naive                T_Naive\n",
       "1051910  oimefeel-1_1     CD4_T_cell             CD4_T_cell\n",
       "1051911  oimegapl-1_1     CD4_T_cell             CD4_T_cell\n",
       "1051912  oimegdim-1_1    Plasma_cell            Plasma_cell\n",
       "\n",
       "[1051913 rows x 3 columns]"
      ]
     },
     "execution_count": 53,
     "metadata": {},
     "output_type": "execute_result"
    }
   ],
   "source": [
    "cells_003"
   ]
  },
  {
   "cell_type": "code",
   "execution_count": 48,
   "id": "58d86f6f-fbf8-4ce3-86e8-a38f68ba13b2",
   "metadata": {},
   "outputs": [
    {
     "data": {
      "text/plain": [
       "['oilofpaa-1_1',\n",
       " 'oilohmfn-1_1',\n",
       " 'oiloicfn-1_1',\n",
       " 'oiloilea-1_1',\n",
       " 'oilolpna-1_1',\n",
       " 'oilomgli-1_1',\n",
       " 'oilomooc-1_1',\n",
       " 'oilonbje-1_1',\n",
       " 'oilpalhh-1_1',\n",
       " 'oilpamak-1_1',\n",
       " 'oilpbdnl-1_1',\n",
       " 'oilpbihc-1_1',\n",
       " 'oilpbjnm-1_1',\n",
       " 'oilpciii-1_1',\n",
       " 'oilpckhh-1_1',\n",
       " 'oilpefmp-1_1',\n",
       " 'oilpegab-1_1',\n",
       " 'oilpfnco-1_1',\n",
       " 'oilphdhc-1_1',\n",
       " 'oilphhjn-1_1',\n",
       " 'oilpjenk-1_1',\n",
       " 'oilpjgog-1_1',\n",
       " 'oilplcnl-1_1',\n",
       " 'oilplglc-1_1',\n",
       " 'oilplhlb-1_1',\n",
       " 'oilplmpm-1_1',\n",
       " 'oilpngfk-1_1',\n",
       " 'oilpogpj-1_1',\n",
       " 'oilpolcj-1_1',\n",
       " 'oilppbli-1_1',\n",
       " 'oilppekb-1_1',\n",
       " 'oimaadmn-1_1',\n",
       " 'oimaelmp-1_1',\n",
       " 'oimagfbd-1_1',\n",
       " 'oimagjch-1_1',\n",
       " 'oimagkig-1_1',\n",
       " 'oimaiimo-1_1',\n",
       " 'oimajejf-1_1',\n",
       " 'oimakcpa-1_1',\n",
       " 'oimakijn-1_1',\n",
       " 'oimaleka-1_1',\n",
       " 'oimamaof-1_1',\n",
       " 'oimamnmf-1_1',\n",
       " 'oimanneo-1_1',\n",
       " 'oimapaci-1_1',\n",
       " 'oimbalka-1_1',\n",
       " 'oimbbjjc-1_1',\n",
       " 'oimbbmpi-1_1',\n",
       " 'oimbbofp-1_1',\n",
       " 'oimbcjjg-1_1',\n",
       " 'oimbdnek-1_1',\n",
       " 'oimbgngn-1_1',\n",
       " 'oimbgnlo-1_1',\n",
       " 'oimbignk-1_1',\n",
       " 'oimbilkd-1_1',\n",
       " 'oimbkloi-1_1',\n",
       " 'oimbklph-1_1',\n",
       " 'oimbmdff-1_1',\n",
       " 'oimbmpdd-1_1',\n",
       " 'oimbnand-1_1',\n",
       " 'oimbohen-1_1',\n",
       " 'oimbojoh-1_1',\n",
       " 'oimcadgj-1_1',\n",
       " 'oimcadij-1_1',\n",
       " 'oimcagnh-1_1',\n",
       " 'oimcbhli-1_1',\n",
       " 'oimcejbc-1_1',\n",
       " 'oimchmbm-1_1',\n",
       " 'oimcijda-1_1',\n",
       " 'oimckdgh-1_1',\n",
       " 'oimclhnb-1_1',\n",
       " 'oimclikm-1_1',\n",
       " 'oimclkio-1_1',\n",
       " 'oimcognf-1_1',\n",
       " 'oimdacld-1_1',\n",
       " 'oimdalei-1_1',\n",
       " 'oimdblhh-1_1',\n",
       " 'oimdclnl-1_1',\n",
       " 'oimddcjk-1_1',\n",
       " 'oimdedaa-1_1',\n",
       " 'oimdfgca-1_1',\n",
       " 'oimdgchb-1_1',\n",
       " 'oimdgjbk-1_1',\n",
       " 'oimdgkmo-1_1',\n",
       " 'oimdheao-1_1',\n",
       " 'oimdinaa-1_1',\n",
       " 'oimdjcdm-1_1',\n",
       " 'oimdjhlh-1_1',\n",
       " 'oimdjhmk-1_1',\n",
       " 'oimdjnjh-1_1',\n",
       " 'oimdjokg-1_1',\n",
       " 'oimdkcic-1_1',\n",
       " 'oimdkkcm-1_1',\n",
       " 'oimdlgoh-1_1',\n",
       " 'oimdodhh-1_1',\n",
       " 'oimdpdko-1_1',\n",
       " 'oimecfkl-1_1',\n",
       " 'oimefeel-1_1',\n",
       " 'oimegapl-1_1',\n",
       " 'oimegdim-1_1']"
      ]
     },
     "execution_count": 48,
     "metadata": {},
     "output_type": "execute_result"
    }
   ],
   "source": [
    "[i.strip('_0') for i in cells_003['cell_labels'].values]"
   ]
  },
  {
   "cell_type": "code",
   "execution_count": 39,
   "id": "437fa45e-d402-4451-9617-82051535bc86",
   "metadata": {},
   "outputs": [
    {
     "data": {
      "text/plain": [
       "'addifjkb-1'"
      ]
     },
     "execution_count": 39,
     "metadata": {},
     "output_type": "execute_result"
    }
   ],
   "source": [
    "adata.obs['Patient_ID'].index[adata.obs['Patient_ID']=='SPECTRUM-OV-003'][1000]"
   ]
  },
  {
   "cell_type": "code",
   "execution_count": 40,
   "id": "5f84abca-e14b-47f7-a81c-7b4a0fbf2d5b",
   "metadata": {},
   "outputs": [
    {
     "data": {
      "text/plain": [
       "'addifjkb-1_0'"
      ]
     },
     "execution_count": 40,
     "metadata": {},
     "output_type": "execute_result"
    }
   ],
   "source": [
    "cells_003['cell_labels'][1000]"
   ]
  },
  {
   "cell_type": "code",
   "execution_count": 32,
   "id": "c68bcc6a-731a-4f45-8218-b5a2855d6e30",
   "metadata": {},
   "outputs": [
    {
     "data": {
      "text/plain": [
       "AnnData object with n_obs × n_vars = 1419439 × 477\n",
       "    obs: 'cell_id', 'x_centroid', 'y_centroid', 'transcript_counts', 'control_probe_counts', 'control_codeword_counts', 'unassigned_codeword_counts', 'deprecated_codeword_counts', 'total_counts', 'cell_area', 'nucleus_area', 'n_genes_by_counts', 'log1p_n_genes_by_counts', 'log1p_total_counts', 'pct_counts_in_top_10_genes', 'pct_counts_in_top_20_genes', 'pct_counts_in_top_50_genes', 'pct_counts_in_top_150_genes', 'n_counts', 'Sample_ID', 'Patient_ID', 'Treatment', 'Region', 'Site'\n",
       "    obsm: 'X_pca', 'spatial'\n",
       "    layers: 'log_norm'"
      ]
     },
     "execution_count": 32,
     "metadata": {},
     "output_type": "execute_result"
    }
   ],
   "source": [
    "adata"
   ]
  },
  {
   "cell_type": "code",
   "execution_count": null,
   "id": "5dbdcb77-8d53-41c2-956f-94223a09480b",
   "metadata": {},
   "outputs": [],
   "source": []
  }
 ],
 "metadata": {
  "kernelspec": {
   "display_name": "macklowe",
   "language": "python",
   "name": "macklowe"
  },
  "language_info": {
   "codemirror_mode": {
    "name": "ipython",
    "version": 3
   },
   "file_extension": ".py",
   "mimetype": "text/x-python",
   "name": "python",
   "nbconvert_exporter": "python",
   "pygments_lexer": "ipython3",
   "version": "3.9.19"
  }
 },
 "nbformat": 4,
 "nbformat_minor": 5
}
