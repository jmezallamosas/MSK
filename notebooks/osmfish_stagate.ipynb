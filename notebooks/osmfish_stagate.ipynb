{
 "cells": [
  {
   "cell_type": "code",
   "execution_count": 1,
   "id": "99505099-478d-4799-a13a-909de0e6d87d",
   "metadata": {},
   "outputs": [],
   "source": [
    "asdasimport pandas as pd\n",
    "import numpy as np\n",
    "import scanpy as sc\n",
    "import matplotlib.pyplot as plt\n",
    "import os\n",
    "import sys\n",
    "\n",
    "from sklearn.metrics.cluster import adjusted_rand_score\n",
    "\n",
    "import warnings\n",
    "warnings.filterwarnings(\"ignore\")\n",
    "\n",
    "import STAGATE_pyG\n",
    "\n",
    "datadir = '/data1/shahs3/users/mezallj1/data/osmfish'\n",
    "# the location of R, which is necessary for mclust algorithm. Please replace it with local R installation path\n",
    "#os.environ['R_HOME'] ='/home/mezallj1/miniconda3/envs/stagate_copy/lib/R'"
   ]
  },
  {
   "cell_type": "code",
   "execution_count": 2,
   "id": "58e3b5eb-a653-4477-a987-64f99d23a6dc",
   "metadata": {},
   "outputs": [
    {
     "data": {
      "text/plain": [
       "AnnData object with n_obs × n_vars = 4839 × 33\n",
       "    obs: 'ClusterName', 'ClusterID', 'Region'\n",
       "    uns: 'ClusterName_colors'\n",
       "    obsm: 'spatial'"
      ]
     },
     "execution_count": 2,
     "metadata": {},
     "output_type": "execute_result"
    }
   ],
   "source": [
    "adata = sc.read_h5ad(f'{datadir}/osmfish_remove_excluded.h5ad')\n",
    "adata"
   ]
  },
  {
   "cell_type": "code",
   "execution_count": 3,
   "id": "e35b3212-fbb3-40b0-ae17-13bdd6713c80",
   "metadata": {},
   "outputs": [],
   "source": [
    "#Normalization\n",
    "sc.pp.highly_variable_genes(adata, flavor=\"seurat_v3\", n_top_genes=3000)\n",
    "sc.pp.normalize_total(adata, target_sum=1e4)\n",
    "sc.pp.log1p(adata)"
   ]
  },
  {
   "cell_type": "code",
   "execution_count": 4,
   "id": "35b23cdd-8d3a-4e33-9bf3-1f465a6a0f54",
   "metadata": {},
   "outputs": [
    {
     "name": "stdout",
     "output_type": "stream",
     "text": [
      "------Calculating spatial graph...\n",
      "The graph contains 2180 edges, 4839 cells.\n",
      "0.4505 neighbors per cell on average.\n"
     ]
    },
    {
     "data": {
      "image/png": "[encoded data removed]",
      "text/plain": [
       "<Figure size 300x200 with 1 Axes>"
      ]
     },
     "metadata": {},
     "output_type": "display_data"
    }
   ],
   "source": [
    "#Constructing the spatial network\n",
    "STAGATE_pyG.Cal_Spatial_Net(adata, rad_cutoff=150)\n",
    "STAGATE_pyG.Stats_Spatial_Net(adata)"
   ]
  },
  {
   "cell_type": "code",
   "execution_count": 5,
   "id": "781f41f1-6923-4792-896b-566dc4711fbb",
   "metadata": {},
   "outputs": [
    {
     "name": "stdout",
     "output_type": "stream",
     "text": [
      "Size of Input:  (4839, 33)\n"
     ]
    },
    {
     "name": "stderr",
     "output_type": "stream",
     "text": [
      "100%|██████████| 1000/1000 [00:51<00:00, 19.45it/s]\n"
     ]
    }
   ],
   "source": [
    "#Running STAGATE\n",
    "adata = STAGATE_pyG.train_STAGATE(adata)"
   ]
  },
  {
   "cell_type": "code",
   "execution_count": 6,
   "id": "6d309836-3de7-44ed-b474-46aa6c868149",
   "metadata": {},
   "outputs": [],
   "source": [
    "def mclust_P(adata, num_cluster, used_obsm='STAGATE', modelNames='EEE'):\n",
    "     from sklearn import mixture\n",
    "     np.random.seed(2020)\n",
    "     g = mixture.GaussianMixture(n_components=num_cluster, covariance_type='diag')\n",
    "     res = g.fit_predict(adata.obsm[used_obsm])\n",
    "     adata.obs['mclust'] = res\n",
    "     return adata"
   ]
  },
  {
   "cell_type": "code",
   "execution_count": 7,
   "id": "13ebf3a1-94bb-4a34-8da5-08081f17443a",
   "metadata": {},
   "outputs": [],
   "source": [
    "sc.pp.neighbors(adata, use_rep='STAGATE')\n",
    "sc.tl.umap(adata)\n",
    "#adata = STAGATE_pyG.mclust_R(adata, used_obsm='STAGATE', num_cluster=11)\n",
    "adata = mclust_P(adata, used_obsm='STAGATE', num_cluster=11)"
   ]
  },
  {
   "cell_type": "code",
   "execution_count": 8,
   "id": "822c18d3-1117-4ac4-9d43-150b724e1e03",
   "metadata": {},
   "outputs": [],
   "source": [
    "obs_df = adata.obs.dropna()"
   ]
  },
  {
   "cell_type": "code",
   "execution_count": 9,
   "id": "3a3f81ce-7fa7-43b9-82e2-3db38e88e4d4",
   "metadata": {},
   "outputs": [
    {
     "name": "stdout",
     "output_type": "stream",
     "text": [
      "0.14818247246582758\n"
     ]
    }
   ],
   "source": [
    "ari = adjusted_rand_score(obs_df['Region'], obs_df['mclust'])\n",
    "print(ari)"
   ]
  },
  {
   "cell_type": "code",
   "execution_count": 10,
   "id": "e413c653-3e9d-4282-bc99-80cb20dd2b0c",
   "metadata": {
    "scrolled": true
   },
   "outputs": [],
   "source": [
    "adata.write(f'{datadir}/osmfish_stagate.h5ad')\n",
    "#adata = sc.read(f'{datadir}/osmfish_stagate.h5ad')"
   ]
  },
  {
   "cell_type": "markdown",
   "id": "b8e4f70a-5172-4248-8d8b-093be90eebd4",
   "metadata": {
    "jp-MarkdownHeadingCollapsed": true
   },
   "source": [
    "# R mclust Function"
   ]
  },
  {
   "cell_type": "code",
   "execution_count": 8,
   "id": "c3e58a4e-9f14-4b38-8e16-4ccb56c8351e",
   "metadata": {},
   "outputs": [],
   "source": [
    "import scanpy as sc\n",
    "import numpy as np\n",
    "import os\n",
    "\n",
    "from sklearn.metrics.cluster import adjusted_rand_score\n",
    "\n",
    "import warnings\n",
    "warnings.filterwarnings(\"ignore\")\n",
    "\n",
    "datadir = '/data1/shahs3/users/mezallj1/data/osmfish'\n",
    "# the location of R, which is necessary for mclust algorithm. Please replace it with local R installation path\n",
    "os.environ['R_HOME'] ='/home/mezallj1/miniconda3/envs/r_env/lib/R'"
   ]
  },
  {
   "cell_type": "code",
   "execution_count": 4,
   "id": "19c81880-5162-4a14-a982-fbc8d2953499",
   "metadata": {},
   "outputs": [],
   "source": [
    "def mclust_R(adata, num_cluster, modelNames='EEE', used_obsm='STAGATE', random_seed=2020):\n",
    "    \"\"\"\\\n",
    "    Clustering using the mclust algorithm.\n",
    "    The parameters are the same as those in the R package mclust.\n",
    "    \"\"\"\n",
    "    \n",
    "    np.random.seed(random_seed)\n",
    "    import rpy2.robjects as robjects\n",
    "    robjects.r.library(\"mclust\")\n",
    "\n",
    "    import rpy2.robjects.numpy2ri\n",
    "    rpy2.robjects.numpy2ri.activate()\n",
    "    r_random_seed = robjects.r['set.seed']\n",
    "    r_random_seed(random_seed)\n",
    "    rmclust = robjects.r['Mclust']\n",
    "\n",
    "    res = rmclust(rpy2.robjects.numpy2ri.numpy2rpy(adata.obsm[used_obsm]), num_cluster, modelNames)\n",
    "    mclust_res = np.array(res[-2])\n",
    "\n",
    "    adata.obs['mclust'] = mclust_res\n",
    "    adata.obs['mclust'] = adata.obs['mclust'].astype('int')\n",
    "    adata.obs['mclust'] = adata.obs['mclust'].astype('category')\n",
    "    return adata"
   ]
  },
  {
   "cell_type": "code",
   "execution_count": 10,
   "id": "074b13c5-9dd4-439f-a83b-e26f61790bb2",
   "metadata": {},
   "outputs": [
    {
     "name": "stdout",
     "output_type": "stream",
     "text": [
      "fitting ...\n",
      "  |======================================================================| 100%\n"
     ]
    }
   ],
   "source": [
    "adata = mclust_R(adata, used_obsm='STAGATE', num_cluster=11)"
   ]
  },
  {
   "cell_type": "code",
   "execution_count": 11,
   "id": "47a8a2a3-e35e-4910-b733-cf5feb2419b6",
   "metadata": {},
   "outputs": [],
   "source": [
    "obs_df = adata.obs.dropna()"
   ]
  },
  {
   "cell_type": "code",
   "execution_count": 12,
   "id": "5a334204-42df-4295-a1eb-6ff71804315d",
   "metadata": {},
   "outputs": [
    {
     "name": "stdout",
     "output_type": "stream",
     "text": [
      "0.09531600741934265\n"
     ]
    }
   ],
   "source": [
    "ari = adjusted_rand_score(obs_df['Region'], obs_df['mclust'])\n",
    "print(ari)"
   ]
  }
 ],
 "metadata": {
  "kernelspec": {
   "display_name": "stagate",
   "language": "python",
   "name": "stagate"
  },
  "language_info": {
   "codemirror_mode": {
    "name": "ipython",
    "version": 3
   },
   "file_extension": ".py",
   "mimetype": "text/x-python",
   "name": "python",
   "nbconvert_exporter": "python",
   "pygments_lexer": "ipython3",
   "version": "3.9.19"
  }
 },
 "nbformat": 4,
 "nbformat_minor": 5
}
