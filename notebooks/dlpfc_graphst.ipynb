{
 "cells": [
  {
   "cell_type": "code",
   "execution_count": 1,
   "id": "c088135d-0596-43a8-988e-0c995ce7b13f",
   "metadata": {},
   "outputs": [],
   "source": [
    "import scanpy as sc\n",
    "import os\n",
    "import torch\n",
    "import pandas as pd\n",
    "import scanpy as sc\n",
    "from sklearn import metrics\n",
    "import multiprocessing as mp\n",
    "import matplotlib.pyplot as plt\n",
    "\n",
    "from GraphST import GraphST\n",
    "\n",
    "datadir = '/data1/shahs3/users/mezallj1/data/dlpfc'#dataset path\n",
    "\n",
    "# the location of R, which is necessary for mclust algorithm. Please replace it with local R installation path\n",
    "os.environ['R_HOME'] ='/home/mezallj1/miniconda3/envs/graphst/lib/R'"
   ]
  },
  {
   "cell_type": "markdown",
   "id": "cf38e2f3-2b28-46cb-ae4d-3f2bede87e5d",
   "metadata": {},
   "source": [
    "# All Slices"
   ]
  },
  {
   "cell_type": "code",
   "execution_count": null,
   "id": "e2e1233a-3260-4798-8d3e-8f29a48303f0",
   "metadata": {},
   "outputs": [],
   "source": [
    "ari_dic = {}\n",
    "\n",
    "for filename in os.listdir(f'{datadir}/raw'):\n",
    "    file_path = os.path.join(f'{datadir}/raw', filename)\n",
    "\n",
    "    if os.path.isfile(file_path):\n",
    "        \n",
    "        adata = sc.read_h5ad(file_path)\n",
    "\n",
    "        # the number of clusters\n",
    "        n_clusters = 7\n",
    "\n",
    "        adata.var_names_make_unique()\n",
    "\n",
    "        # define and train model\n",
    "        model = GraphST.GraphST(adata)\n",
    "        adata = model.train()\n",
    "\n",
    "        # set radius to specify the number of neighbors considered during refinement\n",
    "        radius = 50\n",
    "\n",
    "        # clustering\n",
    "        from GraphST.utils import clustering\n",
    "        clustering(adata, n_clusters, radius=radius, refinement=False) #For DLPFC dataset, we use optional refinement step.\n",
    "\n",
    "        obs_df = adata.obs.dropna()\n",
    "\n",
    "        ari = metrics.adjusted_rand_score(obs_df['domain'], obs_df['Region'])\n",
    "        print(ari)"
   ]
  },
  {
   "cell_type": "markdown",
   "id": "b24cfa3f-f3f8-4e59-8539-65eb2cb06cef",
   "metadata": {},
   "source": [
    "# Individual"
   ]
  },
  {
   "cell_type": "code",
   "execution_count": 2,
   "id": "acb2062b-8c74-4740-8210-2a0a5b2e0fac",
   "metadata": {},
   "outputs": [
    {
     "data": {
      "text/plain": [
       "AnnData object with n_obs × n_vars = 3639 × 33538\n",
       "    obs: 'in_tissue', 'array_row', 'array_col', 'Region'\n",
       "    var: 'gene_ids', 'feature_types', 'genome'\n",
       "    uns: 'spatial'\n",
       "    obsm: 'spatial'"
      ]
     },
     "execution_count": 2,
     "metadata": {},
     "output_type": "execute_result"
    }
   ],
   "source": [
    "adata = sc.read_h5ad(f'{datadir}/raw/151673.h5ad')\n",
    "adata"
   ]
  },
  {
   "cell_type": "code",
   "execution_count": 3,
   "id": "6395a713-06eb-42a9-95ec-4e4687ad33fe",
   "metadata": {},
   "outputs": [],
   "source": [
    "# the number of clusters\n",
    "n_clusters = 7"
   ]
  },
  {
   "cell_type": "code",
   "execution_count": 4,
   "id": "375cbd84-790e-48af-af10-64eca6f99836",
   "metadata": {},
   "outputs": [],
   "source": [
    "adata.var_names_make_unique()"
   ]
  },
  {
   "cell_type": "code",
   "execution_count": 5,
   "id": "09cf8f72-1839-4b6d-a3f0-5d8dd7e75d02",
   "metadata": {},
   "outputs": [
    {
     "name": "stdout",
     "output_type": "stream",
     "text": [
      "Begin to train ST data...\n"
     ]
    },
    {
     "name": "stderr",
     "output_type": "stream",
     "text": [
      "100%|██████████| 600/600 [02:18<00:00,  4.34it/s]"
     ]
    },
    {
     "name": "stdout",
     "output_type": "stream",
     "text": [
      "Optimization finished for ST data!\n"
     ]
    },
    {
     "name": "stderr",
     "output_type": "stream",
     "text": [
      "\n"
     ]
    }
   ],
   "source": [
    "# define and train model\n",
    "model = GraphST.GraphST(adata)\n",
    "adata = model.train()"
   ]
  },
  {
   "cell_type": "code",
   "execution_count": 6,
   "id": "006143cc-1929-4eb4-acf0-58c7863cf9ad",
   "metadata": {},
   "outputs": [],
   "source": [
    "# set radius to specify the number of neighbors considered during refinement\n",
    "radius = 50"
   ]
  },
  {
   "cell_type": "code",
   "execution_count": 7,
   "id": "3ec0a306-4ce6-49c9-a38d-fc0dd486b9e6",
   "metadata": {},
   "outputs": [
    {
     "name": "stderr",
     "output_type": "stream",
     "text": [
      "R[write to console]:                    __           __ \n",
      "   ____ ___  _____/ /_  _______/ /_\n",
      "  / __ `__ \\/ ___/ / / / / ___/ __/\n",
      " / / / / / / /__/ / /_/ (__  ) /_  \n",
      "/_/ /_/ /_/\\___/_/\\__,_/____/\\__/   version 6.0.0\n",
      "Type 'citation(\"mclust\")' for citing this R package in publications.\n",
      "\n"
     ]
    },
    {
     "name": "stdout",
     "output_type": "stream",
     "text": [
      "fitting ...\n",
      "  |======================================================================| 100%\n"
     ]
    }
   ],
   "source": [
    "# clustering\n",
    "from GraphST.utils import clustering\n",
    "clustering(adata, n_clusters, radius=radius, refinement=False) #For DLPFC dataset, we use optional refinement step."
   ]
  },
  {
   "cell_type": "code",
   "execution_count": 8,
   "id": "e00ba58a-0101-4a8a-aa26-112fd888fa2e",
   "metadata": {},
   "outputs": [],
   "source": [
    "obs_df = adata.obs.dropna()"
   ]
  },
  {
   "cell_type": "code",
   "execution_count": 9,
   "id": "4f7d5180-22ea-446d-a969-fed50087517e",
   "metadata": {},
   "outputs": [
    {
     "name": "stdout",
     "output_type": "stream",
     "text": [
      "0.6342579253141447\n"
     ]
    }
   ],
   "source": [
    "ari = metrics.adjusted_rand_score(obs_df['domain'], obs_df['Region'])\n",
    "print(ari)"
   ]
  },
  {
   "cell_type": "code",
   "execution_count": null,
   "id": "ecd9ba5f-3ce3-40c8-88fe-2425794d8129",
   "metadata": {},
   "outputs": [],
   "source": [
    "print(ari)"
   ]
  },
  {
   "cell_type": "code",
   "execution_count": null,
   "id": "c2a8eb6c-525a-4605-869e-514c5d0ed57e",
   "metadata": {},
   "outputs": [],
   "source": []
  }
 ],
 "metadata": {
  "kernelspec": {
   "display_name": "graphst",
   "language": "python",
   "name": "graphst"
  },
  "language_info": {
   "codemirror_mode": {
    "name": "ipython",
    "version": 3
   },
   "file_extension": ".py",
   "mimetype": "text/x-python",
   "name": "python",
   "nbconvert_exporter": "python",
   "pygments_lexer": "ipython3",
   "version": "3.8.19"
  }
 },
 "nbformat": 4,
 "nbformat_minor": 5
}
