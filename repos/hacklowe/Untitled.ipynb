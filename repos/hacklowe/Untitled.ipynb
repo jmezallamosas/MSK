{
 "cells": [
  {
   "cell_type": "code",
   "execution_count": 1,
   "id": "dffe8ba8-0150-41b6-911f-a2faeb158473",
   "metadata": {},
   "outputs": [],
   "source": [
    "import pandas as pd"
   ]
  },
  {
   "cell_type": "code",
   "execution_count": 4,
   "id": "6964b844-6885-42ea-bee6-43d332deb6e7",
   "metadata": {},
   "outputs": [],
   "source": [
    "data = pd.DataFrame({\"hola\":[1,2]})"
   ]
  },
  {
   "cell_type": "code",
   "execution_count": 6,
   "id": "4a7f26d3-c470-4a19-9a81-5eaf509cf01b",
   "metadata": {},
   "outputs": [],
   "source": [
    "data.to_csv('test.csv')"
   ]
  },
  {
   "cell_type": "code",
   "execution_count": null,
   "id": "d540339f-893e-4cd5-ae02-f8dcb890a4d0",
   "metadata": {},
   "outputs": [],
   "source": []
  }
 ],
 "metadata": {
  "kernelspec": {
   "display_name": "hacklowe",
   "language": "python",
   "name": "hacklowe"
  },
  "language_info": {
   "codemirror_mode": {
    "name": "ipython",
    "version": 3
   },
   "file_extension": ".py",
   "mimetype": "text/x-python",
   "name": "python",
   "nbconvert_exporter": "python",
   "pygments_lexer": "ipython3",
   "version": "3.9.19"
  }
 },
 "nbformat": 4,
 "nbformat_minor": 5
}
